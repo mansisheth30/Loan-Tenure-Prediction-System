{
 "cells": [
  {
   "cell_type": "code",
   "execution_count": 1,
   "metadata": {
    "collapsed": true
   },
   "outputs": [],
   "source": [
    "import pandas as pd"
   ]
  },
  {
   "cell_type": "code",
   "execution_count": 2,
   "metadata": {
    "collapsed": true
   },
   "outputs": [],
   "source": [
    "data = pd.read_csv(\"/Users/salilvaidya/Desktop/BA_Project/BA_project_master.csv\")"
   ]
  },
  {
   "cell_type": "code",
   "execution_count": 3,
   "metadata": {},
   "outputs": [
    {
     "data": {
      "text/plain": [
       "pandas.core.frame.DataFrame"
      ]
     },
     "execution_count": 3,
     "metadata": {},
     "output_type": "execute_result"
    }
   ],
   "source": [
    "type(data)"
   ]
  },
  {
   "cell_type": "code",
   "execution_count": 5,
   "metadata": {},
   "outputs": [
    {
     "data": {
      "text/html": [
       "<div>\n",
       "<style>\n",
       "    .dataframe thead tr:only-child th {\n",
       "        text-align: right;\n",
       "    }\n",
       "\n",
       "    .dataframe thead th {\n",
       "        text-align: left;\n",
       "    }\n",
       "\n",
       "    .dataframe tbody tr th {\n",
       "        vertical-align: top;\n",
       "    }\n",
       "</style>\n",
       "<table border=\"1\" class=\"dataframe\">\n",
       "  <thead>\n",
       "    <tr style=\"text-align: right;\">\n",
       "      <th></th>\n",
       "      <th>End of Period</th>\n",
       "      <th>Credit Number</th>\n",
       "      <th>Region</th>\n",
       "      <th>Country Code</th>\n",
       "      <th>Country</th>\n",
       "      <th>Borrower</th>\n",
       "      <th>Credit Status</th>\n",
       "      <th>Service Charge Rate</th>\n",
       "      <th>Currency of Commitment</th>\n",
       "      <th>Project ID</th>\n",
       "      <th>...</th>\n",
       "      <th>Repaid 3rd Party</th>\n",
       "      <th>Due 3rd Party</th>\n",
       "      <th>Credits Held</th>\n",
       "      <th>First Repayment Date</th>\n",
       "      <th>Last Repayment Date</th>\n",
       "      <th>Agreement Signing Date</th>\n",
       "      <th>Board Approval Date</th>\n",
       "      <th>Effective Date (Most Recent)</th>\n",
       "      <th>Closed Date (Most Recent)</th>\n",
       "      <th>Last Disbursement Date</th>\n",
       "    </tr>\n",
       "  </thead>\n",
       "  <tbody>\n",
       "    <tr>\n",
       "      <th>8198</th>\n",
       "      <td>03/31/2018 12:00:00 AM</td>\n",
       "      <td>IDAS0250</td>\n",
       "      <td>LATIN AMERICA AND CARIBBEAN</td>\n",
       "      <td>BO</td>\n",
       "      <td>Bolivia</td>\n",
       "      <td>MINISTRO DE ECONOMIA Y</td>\n",
       "      <td>Fully Repaid</td>\n",
       "      <td>0.75</td>\n",
       "      <td>USD</td>\n",
       "      <td>P006135</td>\n",
       "      <td>...</td>\n",
       "      <td>$0.00</td>\n",
       "      <td>$0.00</td>\n",
       "      <td>$0.00</td>\n",
       "      <td>07/01/1990 12:00:00 AM</td>\n",
       "      <td>01/01/2030 12:00:00 AM</td>\n",
       "      <td>06/18/1980 12:00:00 AM</td>\n",
       "      <td>02/26/1980 12:00:00 AM</td>\n",
       "      <td>12/12/1980 12:00:00 AM</td>\n",
       "      <td>12/31/1984 12:00:00 AM</td>\n",
       "      <td>NaN</td>\n",
       "    </tr>\n",
       "    <tr>\n",
       "      <th>8199</th>\n",
       "      <td>03/31/2018 12:00:00 AM</td>\n",
       "      <td>IDAS0260</td>\n",
       "      <td>AFRICA</td>\n",
       "      <td>SN</td>\n",
       "      <td>Senegal</td>\n",
       "      <td>MINISTERE DE L'ECONOMIE ET DES FINANCES</td>\n",
       "      <td>Fully Repaid</td>\n",
       "      <td>0.75</td>\n",
       "      <td>USD</td>\n",
       "      <td>P002307</td>\n",
       "      <td>...</td>\n",
       "      <td>$0.00</td>\n",
       "      <td>$0.00</td>\n",
       "      <td>$0.00</td>\n",
       "      <td>01/15/1984 12:00:00 AM</td>\n",
       "      <td>07/15/1990 12:00:00 AM</td>\n",
       "      <td>06/18/1980 12:00:00 AM</td>\n",
       "      <td>05/22/1980 12:00:00 AM</td>\n",
       "      <td>08/29/1980 12:00:00 AM</td>\n",
       "      <td>06/30/1986 12:00:00 AM</td>\n",
       "      <td>NaN</td>\n",
       "    </tr>\n",
       "    <tr>\n",
       "      <th>8200</th>\n",
       "      <td>03/31/2018 12:00:00 AM</td>\n",
       "      <td>IDAS0270</td>\n",
       "      <td>AFRICA</td>\n",
       "      <td>TZ</td>\n",
       "      <td>Tanzania</td>\n",
       "      <td>Ministry of Finance and Economic Affairs</td>\n",
       "      <td>Fully Repaid</td>\n",
       "      <td>0.75</td>\n",
       "      <td>USD</td>\n",
       "      <td>P002729</td>\n",
       "      <td>...</td>\n",
       "      <td>$0.00</td>\n",
       "      <td>$0.00</td>\n",
       "      <td>$0.00</td>\n",
       "      <td>09/15/1983 12:00:00 AM</td>\n",
       "      <td>03/15/2030 12:00:00 AM</td>\n",
       "      <td>06/30/1980 12:00:00 AM</td>\n",
       "      <td>06/12/1980 12:00:00 AM</td>\n",
       "      <td>09/12/1980 12:00:00 AM</td>\n",
       "      <td>09/30/1982 12:00:00 AM</td>\n",
       "      <td>NaN</td>\n",
       "    </tr>\n",
       "    <tr>\n",
       "      <th>8201</th>\n",
       "      <td>03/31/2018 12:00:00 AM</td>\n",
       "      <td>IDA61410</td>\n",
       "      <td>AFRICA</td>\n",
       "      <td>3W</td>\n",
       "      <td>Western Africa</td>\n",
       "      <td>BANQUE OUEST AFRICAINE DE DEVELOPMENT</td>\n",
       "      <td>Disbursing</td>\n",
       "      <td>0.00</td>\n",
       "      <td>EUR</td>\n",
       "      <td>P161658</td>\n",
       "      <td>...</td>\n",
       "      <td>$0.00</td>\n",
       "      <td>$0.00</td>\n",
       "      <td>$142987400.00</td>\n",
       "      <td>10/15/2023 12:00:00 AM</td>\n",
       "      <td>04/15/2048 12:00:00 AM</td>\n",
       "      <td>10/13/2017 12:00:00 AM</td>\n",
       "      <td>09/28/2017 12:00:00 AM</td>\n",
       "      <td>12/21/2017 12:00:00 AM</td>\n",
       "      <td>12/31/2022 12:00:00 AM</td>\n",
       "      <td>02/26/2018 12:00:00 AM</td>\n",
       "    </tr>\n",
       "    <tr>\n",
       "      <th>8202</th>\n",
       "      <td>03/31/2018 12:00:00 AM</td>\n",
       "      <td>IDA56540</td>\n",
       "      <td>EAST ASIA AND PACIFIC</td>\n",
       "      <td>VN</td>\n",
       "      <td>Vietnam</td>\n",
       "      <td>STATE BANK OF VIETNAM</td>\n",
       "      <td>Disbursing</td>\n",
       "      <td>2.00</td>\n",
       "      <td>XDR</td>\n",
       "      <td>P126507</td>\n",
       "      <td>...</td>\n",
       "      <td>$0.00</td>\n",
       "      <td>$0.00</td>\n",
       "      <td>$128230452.00</td>\n",
       "      <td>11/15/2020 12:00:00 AM</td>\n",
       "      <td>05/15/2040 12:00:00 AM</td>\n",
       "      <td>07/09/2015 12:00:00 AM</td>\n",
       "      <td>05/29/2015 12:00:00 AM</td>\n",
       "      <td>10/09/2015 12:00:00 AM</td>\n",
       "      <td>12/31/2020 12:00:00 AM</td>\n",
       "      <td>02/23/2017 12:00:00 AM</td>\n",
       "    </tr>\n",
       "  </tbody>\n",
       "</table>\n",
       "<p>5 rows × 30 columns</p>\n",
       "</div>"
      ],
      "text/plain": [
       "               End of Period Credit Number                       Region  \\\n",
       "8198  03/31/2018 12:00:00 AM      IDAS0250  LATIN AMERICA AND CARIBBEAN   \n",
       "8199  03/31/2018 12:00:00 AM      IDAS0260                       AFRICA   \n",
       "8200  03/31/2018 12:00:00 AM      IDAS0270                       AFRICA   \n",
       "8201  03/31/2018 12:00:00 AM      IDA61410                       AFRICA   \n",
       "8202  03/31/2018 12:00:00 AM      IDA56540        EAST ASIA AND PACIFIC   \n",
       "\n",
       "     Country Code         Country                                  Borrower  \\\n",
       "8198           BO         Bolivia                    MINISTRO DE ECONOMIA Y   \n",
       "8199           SN         Senegal   MINISTERE DE L'ECONOMIE ET DES FINANCES   \n",
       "8200           TZ        Tanzania  Ministry of Finance and Economic Affairs   \n",
       "8201           3W  Western Africa     BANQUE OUEST AFRICAINE DE DEVELOPMENT   \n",
       "8202           VN         Vietnam                     STATE BANK OF VIETNAM   \n",
       "\n",
       "     Credit Status  Service Charge Rate Currency of Commitment Project ID  \\\n",
       "8198  Fully Repaid                 0.75                    USD    P006135   \n",
       "8199  Fully Repaid                 0.75                    USD    P002307   \n",
       "8200  Fully Repaid                 0.75                    USD    P002729   \n",
       "8201    Disbursing                 0.00                    EUR    P161658   \n",
       "8202    Disbursing                 2.00                    XDR    P126507   \n",
       "\n",
       "               ...           Repaid 3rd Party Due 3rd Party   Credits Held  \\\n",
       "8198           ...                      $0.00         $0.00          $0.00   \n",
       "8199           ...                      $0.00         $0.00          $0.00   \n",
       "8200           ...                      $0.00         $0.00          $0.00   \n",
       "8201           ...                      $0.00         $0.00  $142987400.00   \n",
       "8202           ...                      $0.00         $0.00  $128230452.00   \n",
       "\n",
       "        First Repayment Date     Last Repayment Date  Agreement Signing Date  \\\n",
       "8198  07/01/1990 12:00:00 AM  01/01/2030 12:00:00 AM  06/18/1980 12:00:00 AM   \n",
       "8199  01/15/1984 12:00:00 AM  07/15/1990 12:00:00 AM  06/18/1980 12:00:00 AM   \n",
       "8200  09/15/1983 12:00:00 AM  03/15/2030 12:00:00 AM  06/30/1980 12:00:00 AM   \n",
       "8201  10/15/2023 12:00:00 AM  04/15/2048 12:00:00 AM  10/13/2017 12:00:00 AM   \n",
       "8202  11/15/2020 12:00:00 AM  05/15/2040 12:00:00 AM  07/09/2015 12:00:00 AM   \n",
       "\n",
       "         Board Approval Date Effective Date (Most Recent)  \\\n",
       "8198  02/26/1980 12:00:00 AM       12/12/1980 12:00:00 AM   \n",
       "8199  05/22/1980 12:00:00 AM       08/29/1980 12:00:00 AM   \n",
       "8200  06/12/1980 12:00:00 AM       09/12/1980 12:00:00 AM   \n",
       "8201  09/28/2017 12:00:00 AM       12/21/2017 12:00:00 AM   \n",
       "8202  05/29/2015 12:00:00 AM       10/09/2015 12:00:00 AM   \n",
       "\n",
       "     Closed Date (Most Recent)  Last Disbursement Date  \n",
       "8198    12/31/1984 12:00:00 AM                     NaN  \n",
       "8199    06/30/1986 12:00:00 AM                     NaN  \n",
       "8200    09/30/1982 12:00:00 AM                     NaN  \n",
       "8201    12/31/2022 12:00:00 AM  02/26/2018 12:00:00 AM  \n",
       "8202    12/31/2020 12:00:00 AM  02/23/2017 12:00:00 AM  \n",
       "\n",
       "[5 rows x 30 columns]"
      ]
     },
     "execution_count": 5,
     "metadata": {},
     "output_type": "execute_result"
    }
   ],
   "source": [
    "data.tail()"
   ]
  },
  {
   "cell_type": "code",
   "execution_count": 6,
   "metadata": {},
   "outputs": [
    {
     "data": {
      "text/plain": [
       "dtype('O')"
      ]
     },
     "execution_count": 6,
     "metadata": {},
     "output_type": "execute_result"
    }
   ],
   "source": [
    "data[\"Board Approval Date\"].dtype"
   ]
  },
  {
   "cell_type": "code",
   "execution_count": 7,
   "metadata": {},
   "outputs": [],
   "source": [
    "data[\"Board Approval Date\"] = pd.to_datetime(data[\"Board Approval Date\"], format = '%m/%d/%Y %H:%M:%S %p' )"
   ]
  },
  {
   "cell_type": "code",
   "execution_count": 8,
   "metadata": {},
   "outputs": [
    {
     "data": {
      "text/plain": [
       "dtype('<M8[ns]')"
      ]
     },
     "execution_count": 8,
     "metadata": {},
     "output_type": "execute_result"
    }
   ],
   "source": [
    "data[\"Board Approval Date\"].dtype"
   ]
  },
  {
   "cell_type": "code",
   "execution_count": 9,
   "metadata": {
    "collapsed": true
   },
   "outputs": [],
   "source": [
    "data['Year'] = data[\"Board Approval Date\"].dt.year"
   ]
  },
  {
   "cell_type": "code",
   "execution_count": 10,
   "metadata": {},
   "outputs": [
    {
     "data": {
      "text/plain": [
       "0       1961\n",
       "1       1961\n",
       "2       1961\n",
       "3       1961\n",
       "4       1961\n",
       "5       1961\n",
       "6       1961\n",
       "7       1961\n",
       "8       1961\n",
       "9       1961\n",
       "10      1961\n",
       "11      1961\n",
       "12      1961\n",
       "13      1961\n",
       "14      1961\n",
       "15      1961\n",
       "16      1961\n",
       "17      1961\n",
       "18      1962\n",
       "19      1962\n",
       "20      1962\n",
       "21      1962\n",
       "22      1962\n",
       "23      1962\n",
       "24      1962\n",
       "25      1962\n",
       "26      1962\n",
       "27      1962\n",
       "28      1962\n",
       "29      1962\n",
       "        ... \n",
       "8173    1999\n",
       "8174    2000\n",
       "8175    1966\n",
       "8176    1966\n",
       "8177    1968\n",
       "8178    1968\n",
       "8179    1969\n",
       "8180    1969\n",
       "8181    1969\n",
       "8182    1970\n",
       "8183    1970\n",
       "8184    1970\n",
       "8185    1972\n",
       "8186    1972\n",
       "8187    1973\n",
       "8188    1973\n",
       "8189    1974\n",
       "8190    1974\n",
       "8191    1975\n",
       "8192    1975\n",
       "8193    1977\n",
       "8194    1978\n",
       "8195    1978\n",
       "8196    1979\n",
       "8197    1979\n",
       "8198    1980\n",
       "8199    1980\n",
       "8200    1980\n",
       "8201    2017\n",
       "8202    2015\n",
       "Name: Year, Length: 8203, dtype: int64"
      ]
     },
     "execution_count": 10,
     "metadata": {},
     "output_type": "execute_result"
    }
   ],
   "source": [
    "data['Year']"
   ]
  },
  {
   "cell_type": "code",
   "execution_count": 14,
   "metadata": {},
   "outputs": [
    {
     "data": {
      "text/plain": [
       "array([1961, 1962, 1963, 1964, 2016, 1965, 1966, 1967, 2018, 1968, 1973,\n",
       "       1969, 1974, 1975, 1970, 1971, 1976, 1972, 1977, 2017, 1979, 1978,\n",
       "       1980, 2014, 1981, 1986, 2015, 1982, 1983, 1988, 1984, 1987, 1985,\n",
       "       2003, 2004, 1993, 1989, 2009, 1990, 1992, 1991, 1997, 1994, 1998,\n",
       "       1999, 2000, 2001, 1995, 1996, 2005, 2002, 2006, 2008, 2007, 2011,\n",
       "       2010, 2012, 2013])"
      ]
     },
     "execution_count": 14,
     "metadata": {},
     "output_type": "execute_result"
    }
   ],
   "source": [
    "data.Year.unique()"
   ]
  },
  {
   "cell_type": "code",
   "execution_count": 12,
   "metadata": {},
   "outputs": [
    {
     "data": {
      "text/plain": [
       "8203"
      ]
     },
     "execution_count": 12,
     "metadata": {},
     "output_type": "execute_result"
    }
   ],
   "source": [
    "len(data)"
   ]
  },
  {
   "cell_type": "code",
   "execution_count": null,
   "metadata": {},
   "outputs": [],
   "source": [
    "data.tail()"
   ]
  },
  {
   "cell_type": "code",
   "execution_count": 17,
   "metadata": {},
   "outputs": [
    {
     "data": {
      "text/plain": [
       "array(['HN', 'SD', 'IN', 'CL', 'CO', 'TW', 'CR', 'PK', 'PY', 'JO', 'SZ',\n",
       "       'KR', 'NI', 'TN', 'SV', 'HT', 'TR', 'ET', 'TZ', 'SY', 'EC', 'BD',\n",
       "       'NE', 'BO', 'BW', 'KE', 'AF', 'MR', 'NG', 'SO', 'MA', 'LS', 'BI',\n",
       "       'MG', 'ML', 'SN', 'CM', 'UG', 'MW', 'BT', 'GH', 'LK', 'TD', 'ID',\n",
       "       'TG', 'PG', 'GY', 'BF', 'BJ', 'CF', 'ZR', 'NP', 'SL', 'EG', 'GM',\n",
       "       'CG', 'RW', 'DO', 'MU', 'RY', 'PH', 'LR', 'GQ', 'TH', 'CI', 'MM',\n",
       "       'WS', 'GN', 'LA', 'ZM', 'VN', 'KM', 'GW', 'MV', '6R', '3W', 'SB',\n",
       "       'ZW', 'CN', 'DM', 'DJ', 'CV', 'VU', 'VC', 'GD', 'ST', 'MZ', 'TO',\n",
       "       'KG', 'LC', 'KN', 'AO', 'MN', 'AL', 'ER', 'KH', 'AM', 'MK', 'GE',\n",
       "       'AZ', 'TJ', 'BA', 'MD', '3A', 'YF', 'UZ', 'ME', '3T', 'IQ', 'XK',\n",
       "       'SS', 'TP', 'LB', 'FM', 'KI', 'TV', 'MH', '4P', '7C', '3E', '1W',\n",
       "       '6C', '4M'], dtype=object)"
      ]
     },
     "execution_count": 17,
     "metadata": {},
     "output_type": "execute_result"
    }
   ],
   "source": [
    "data['Country Code'].unique()"
   ]
  },
  {
   "cell_type": "code",
   "execution_count": 19,
   "metadata": {
    "collapsed": true
   },
   "outputs": [],
   "source": [
    "data['Closed Date (Most Recent)'] = pd.to_datetime(data['Closed Date (Most Recent)'], format = '%m/%d/%Y %H:%M:%S %p' )"
   ]
  },
  {
   "cell_type": "code",
   "execution_count": 20,
   "metadata": {},
   "outputs": [],
   "source": [
    "data['Duration'] = data['Closed Date (Most Recent)'].dt.year - data['Board Approval Date'].dt.year"
   ]
  },
  {
   "cell_type": "code",
   "execution_count": 21,
   "metadata": {},
   "outputs": [
    {
     "data": {
      "text/html": [
       "<div>\n",
       "<style>\n",
       "    .dataframe thead tr:only-child th {\n",
       "        text-align: right;\n",
       "    }\n",
       "\n",
       "    .dataframe thead th {\n",
       "        text-align: left;\n",
       "    }\n",
       "\n",
       "    .dataframe tbody tr th {\n",
       "        vertical-align: top;\n",
       "    }\n",
       "</style>\n",
       "<table border=\"1\" class=\"dataframe\">\n",
       "  <thead>\n",
       "    <tr style=\"text-align: right;\">\n",
       "      <th></th>\n",
       "      <th>End of Period</th>\n",
       "      <th>Credit Number</th>\n",
       "      <th>Region</th>\n",
       "      <th>Country Code</th>\n",
       "      <th>Country</th>\n",
       "      <th>Borrower</th>\n",
       "      <th>Credit Status</th>\n",
       "      <th>Service Charge Rate</th>\n",
       "      <th>Currency of Commitment</th>\n",
       "      <th>Project ID</th>\n",
       "      <th>...</th>\n",
       "      <th>Credits Held</th>\n",
       "      <th>First Repayment Date</th>\n",
       "      <th>Last Repayment Date</th>\n",
       "      <th>Agreement Signing Date</th>\n",
       "      <th>Board Approval Date</th>\n",
       "      <th>Effective Date (Most Recent)</th>\n",
       "      <th>Closed Date (Most Recent)</th>\n",
       "      <th>Last Disbursement Date</th>\n",
       "      <th>Year</th>\n",
       "      <th>Duration</th>\n",
       "    </tr>\n",
       "  </thead>\n",
       "  <tbody>\n",
       "    <tr>\n",
       "      <th>0</th>\n",
       "      <td>03/31/2018 12:00:00 AM</td>\n",
       "      <td>IDA00010</td>\n",
       "      <td>LATIN AMERICA AND CARIBBEAN</td>\n",
       "      <td>HN</td>\n",
       "      <td>Honduras</td>\n",
       "      <td>MINISTERIO DE HACIENDA Y CREDITO PUBLICO</td>\n",
       "      <td>Fully Repaid</td>\n",
       "      <td>0.75</td>\n",
       "      <td>USD</td>\n",
       "      <td>P007335</td>\n",
       "      <td>...</td>\n",
       "      <td>$0.00</td>\n",
       "      <td>09/01/1971 12:00:00 AM</td>\n",
       "      <td>03/01/2011 12:00:00 AM</td>\n",
       "      <td>05/12/1961 12:00:00 AM</td>\n",
       "      <td>1961-05-11 12:00:00</td>\n",
       "      <td>06/29/1961 12:00:00 AM</td>\n",
       "      <td>1967-07-31 12:00:00</td>\n",
       "      <td>NaN</td>\n",
       "      <td>1961</td>\n",
       "      <td>6.0</td>\n",
       "    </tr>\n",
       "    <tr>\n",
       "      <th>1</th>\n",
       "      <td>03/31/2018 12:00:00 AM</td>\n",
       "      <td>IDA00020</td>\n",
       "      <td>AFRICA</td>\n",
       "      <td>SD</td>\n",
       "      <td>Sudan</td>\n",
       "      <td>Ministry of Finance and National Economy</td>\n",
       "      <td>Repaying</td>\n",
       "      <td>0.75</td>\n",
       "      <td>USD</td>\n",
       "      <td>P002553</td>\n",
       "      <td>...</td>\n",
       "      <td>$7374384.82</td>\n",
       "      <td>07/15/1971 12:00:00 AM</td>\n",
       "      <td>01/15/2011 12:00:00 AM</td>\n",
       "      <td>06/14/1961 12:00:00 AM</td>\n",
       "      <td>1961-06-13 12:00:00</td>\n",
       "      <td>10/19/1961 12:00:00 AM</td>\n",
       "      <td>1971-12-31 12:00:00</td>\n",
       "      <td>NaN</td>\n",
       "      <td>1961</td>\n",
       "      <td>10.0</td>\n",
       "    </tr>\n",
       "    <tr>\n",
       "      <th>2</th>\n",
       "      <td>03/31/2018 12:00:00 AM</td>\n",
       "      <td>IDA00030</td>\n",
       "      <td>SOUTH ASIA</td>\n",
       "      <td>IN</td>\n",
       "      <td>India</td>\n",
       "      <td>CONTROLLER OF AID ACCOUNTS &amp; AUDIT</td>\n",
       "      <td>Fully Repaid</td>\n",
       "      <td>0.75</td>\n",
       "      <td>USD</td>\n",
       "      <td>P009610</td>\n",
       "      <td>...</td>\n",
       "      <td>$0.00</td>\n",
       "      <td>08/15/1971 12:00:00 AM</td>\n",
       "      <td>02/15/2011 12:00:00 AM</td>\n",
       "      <td>06/21/1961 12:00:00 AM</td>\n",
       "      <td>1961-06-20 12:00:00</td>\n",
       "      <td>08/25/1961 12:00:00 AM</td>\n",
       "      <td>1967-06-30 12:00:00</td>\n",
       "      <td>NaN</td>\n",
       "      <td>1961</td>\n",
       "      <td>6.0</td>\n",
       "    </tr>\n",
       "    <tr>\n",
       "      <th>3</th>\n",
       "      <td>03/31/2018 12:00:00 AM</td>\n",
       "      <td>IDA00040</td>\n",
       "      <td>LATIN AMERICA AND CARIBBEAN</td>\n",
       "      <td>CL</td>\n",
       "      <td>Chile</td>\n",
       "      <td>MINISTERIO DE OBRAS PUBLICAS</td>\n",
       "      <td>Fully Repaid</td>\n",
       "      <td>0.75</td>\n",
       "      <td>USD</td>\n",
       "      <td>P006585</td>\n",
       "      <td>...</td>\n",
       "      <td>$0.00</td>\n",
       "      <td>12/01/1971 12:00:00 AM</td>\n",
       "      <td>06/01/2011 12:00:00 AM</td>\n",
       "      <td>06/28/1961 12:00:00 AM</td>\n",
       "      <td>1961-06-27 12:00:00</td>\n",
       "      <td>12/21/1961 12:00:00 AM</td>\n",
       "      <td>1968-12-31 12:00:00</td>\n",
       "      <td>NaN</td>\n",
       "      <td>1961</td>\n",
       "      <td>7.0</td>\n",
       "    </tr>\n",
       "    <tr>\n",
       "      <th>4</th>\n",
       "      <td>03/31/2018 12:00:00 AM</td>\n",
       "      <td>IDA00050</td>\n",
       "      <td>LATIN AMERICA AND CARIBBEAN</td>\n",
       "      <td>CO</td>\n",
       "      <td>Colombia</td>\n",
       "      <td>MINISTERIO DE HACIENDA Y CREDITO PUBLICO</td>\n",
       "      <td>Fully Repaid</td>\n",
       "      <td>0.75</td>\n",
       "      <td>USD</td>\n",
       "      <td>P006701</td>\n",
       "      <td>...</td>\n",
       "      <td>$0.00</td>\n",
       "      <td>12/01/1971 12:00:00 AM</td>\n",
       "      <td>06/01/2011 12:00:00 AM</td>\n",
       "      <td>08/28/1961 12:00:00 AM</td>\n",
       "      <td>1961-08-15 12:00:00</td>\n",
       "      <td>11/25/1961 12:00:00 AM</td>\n",
       "      <td>1968-12-31 12:00:00</td>\n",
       "      <td>NaN</td>\n",
       "      <td>1961</td>\n",
       "      <td>7.0</td>\n",
       "    </tr>\n",
       "  </tbody>\n",
       "</table>\n",
       "<p>5 rows × 32 columns</p>\n",
       "</div>"
      ],
      "text/plain": [
       "            End of Period Credit Number                       Region  \\\n",
       "0  03/31/2018 12:00:00 AM      IDA00010  LATIN AMERICA AND CARIBBEAN   \n",
       "1  03/31/2018 12:00:00 AM      IDA00020                       AFRICA   \n",
       "2  03/31/2018 12:00:00 AM      IDA00030                   SOUTH ASIA   \n",
       "3  03/31/2018 12:00:00 AM      IDA00040  LATIN AMERICA AND CARIBBEAN   \n",
       "4  03/31/2018 12:00:00 AM      IDA00050  LATIN AMERICA AND CARIBBEAN   \n",
       "\n",
       "  Country Code   Country                                  Borrower  \\\n",
       "0           HN  Honduras  MINISTERIO DE HACIENDA Y CREDITO PUBLICO   \n",
       "1           SD     Sudan  Ministry of Finance and National Economy   \n",
       "2           IN     India        CONTROLLER OF AID ACCOUNTS & AUDIT   \n",
       "3           CL     Chile              MINISTERIO DE OBRAS PUBLICAS   \n",
       "4           CO  Colombia  MINISTERIO DE HACIENDA Y CREDITO PUBLICO   \n",
       "\n",
       "  Credit Status  Service Charge Rate Currency of Commitment Project ID  \\\n",
       "0  Fully Repaid                 0.75                    USD    P007335   \n",
       "1      Repaying                 0.75                    USD    P002553   \n",
       "2  Fully Repaid                 0.75                    USD    P009610   \n",
       "3  Fully Repaid                 0.75                    USD    P006585   \n",
       "4  Fully Repaid                 0.75                    USD    P006701   \n",
       "\n",
       "    ...    Credits Held    First Repayment Date     Last Repayment Date  \\\n",
       "0   ...           $0.00  09/01/1971 12:00:00 AM  03/01/2011 12:00:00 AM   \n",
       "1   ...     $7374384.82  07/15/1971 12:00:00 AM  01/15/2011 12:00:00 AM   \n",
       "2   ...           $0.00  08/15/1971 12:00:00 AM  02/15/2011 12:00:00 AM   \n",
       "3   ...           $0.00  12/01/1971 12:00:00 AM  06/01/2011 12:00:00 AM   \n",
       "4   ...           $0.00  12/01/1971 12:00:00 AM  06/01/2011 12:00:00 AM   \n",
       "\n",
       "   Agreement Signing Date Board Approval Date Effective Date (Most Recent)  \\\n",
       "0  05/12/1961 12:00:00 AM 1961-05-11 12:00:00       06/29/1961 12:00:00 AM   \n",
       "1  06/14/1961 12:00:00 AM 1961-06-13 12:00:00       10/19/1961 12:00:00 AM   \n",
       "2  06/21/1961 12:00:00 AM 1961-06-20 12:00:00       08/25/1961 12:00:00 AM   \n",
       "3  06/28/1961 12:00:00 AM 1961-06-27 12:00:00       12/21/1961 12:00:00 AM   \n",
       "4  08/28/1961 12:00:00 AM 1961-08-15 12:00:00       11/25/1961 12:00:00 AM   \n",
       "\n",
       "  Closed Date (Most Recent) Last Disbursement Date  Year Duration  \n",
       "0       1967-07-31 12:00:00                    NaN  1961      6.0  \n",
       "1       1971-12-31 12:00:00                    NaN  1961     10.0  \n",
       "2       1967-06-30 12:00:00                    NaN  1961      6.0  \n",
       "3       1968-12-31 12:00:00                    NaN  1961      7.0  \n",
       "4       1968-12-31 12:00:00                    NaN  1961      7.0  \n",
       "\n",
       "[5 rows x 32 columns]"
      ]
     },
     "execution_count": 21,
     "metadata": {},
     "output_type": "execute_result"
    }
   ],
   "source": [
    "data.head()"
   ]
  },
  {
   "cell_type": "code",
   "execution_count": null,
   "metadata": {
    "collapsed": true
   },
   "outputs": [],
   "source": []
  }
 ],
 "metadata": {
  "kernelspec": {
   "display_name": "Python 3",
   "language": "python",
   "name": "python3"
  },
  "language_info": {
   "codemirror_mode": {
    "name": "ipython",
    "version": 3
   },
   "file_extension": ".py",
   "mimetype": "text/x-python",
   "name": "python",
   "nbconvert_exporter": "python",
   "pygments_lexer": "ipython3",
   "version": "3.6.3"
  }
 },
 "nbformat": 4,
 "nbformat_minor": 2
}
